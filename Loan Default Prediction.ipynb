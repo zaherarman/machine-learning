{
 "cells": [
  {
   "cell_type": "markdown",
   "id": "2a5f2c1e",
   "metadata": {},
   "source": [
    "### Investigation into:\n",
    "\n",
    "- **Model selection**\n",
    "- **Scaling**\n",
    "- **Feature engineering**\n",
    "- **Feature selection**\n",
    "- **Grid Search**\n",
    "- **Model stacking**\n",
    "- **Bagging**"
   ]
  },
  {
   "cell_type": "code",
   "execution_count": null,
   "id": "b67275da",
   "metadata": {},
   "outputs": [],
   "source": [
    "import os\n",
    "\n",
    "# KMeans memory leak errors\n",
    "N = \"12\"  \n",
    "\n",
    "os.environ[\"LOKY_MAX_CPU_COUNT\"] = N\n",
    "os.environ[\"OMP_NUM_THREADS\"] = N\n",
    "os.environ[\"MKL_NUM_THREADS\"] = N\n",
    "\n",
    "import matplotlib.pyplot as plt\n",
    "import numpy as np\n",
    "import pandas as pd\n",
    "\n",
    "from sklearn.cluster import KMeans\n",
    "from sklearn.ensemble import RandomForestClassifier, VotingClassifier\n",
    "from sklearn.feature_selection import SelectKBest, f_classif\n",
    "from sklearn.linear_model import LogisticRegression\n",
    "from sklearn.metrics import precision_score, recall_score\n",
    "from sklearn.model_selection import GridSearchCV\n",
    "from sklearn.model_selection import train_test_split\n",
    "from sklearn.preprocessing import StandardScaler\n",
    "from sklearn.tree import DecisionTreeClassifier"
   ]
  },
  {
   "cell_type": "code",
   "execution_count": null,
   "id": "7cdc4e0f",
   "metadata": {},
   "outputs": [],
   "source": []
  }
 ],
 "metadata": {
  "kernelspec": {
   "display_name": "Python 3",
   "language": "python",
   "name": "python3"
  },
  "language_info": {
   "codemirror_mode": {
    "name": "ipython",
    "version": 3
   },
   "file_extension": ".py",
   "mimetype": "text/x-python",
   "name": "python",
   "nbconvert_exporter": "python",
   "pygments_lexer": "ipython3",
   "version": "3.13.4"
  }
 },
 "nbformat": 4,
 "nbformat_minor": 5
}
